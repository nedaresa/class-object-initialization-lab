{
 "cells": [
  {
   "cell_type": "code",
   "execution_count": 12,
   "metadata": {},
   "outputs": [
    {
     "name": "stdout",
     "output_type": "stream",
     "text": [
      "The autoreload extension is already loaded. To reload it, use:\n",
      "  %reload_ext autoreload\n"
     ]
    }
   ],
   "source": [
    "%load_ext autoreload\n",
    "%autoreload 2"
   ]
  },
  {
   "cell_type": "code",
   "execution_count": 13,
   "metadata": {},
   "outputs": [],
   "source": [
    "from school import School"
   ]
  },
  {
   "cell_type": "code",
   "execution_count": 14,
   "metadata": {},
   "outputs": [
    {
     "data": {
      "text/plain": [
       "['Tony Hawk', 'Ryan Sheckler', 'Neda Jabbari']"
      ]
     },
     "execution_count": 14,
     "metadata": {},
     "output_type": "execute_result"
    }
   ],
   "source": [
    "newstudentname = \"Neda Jabbari\"\n",
    "newstudentgrade =10\n",
    "exampleroster = {12: ['Peter Piper'],\n",
    " 9: ['Kelly Slater'],\n",
    " 10: ['Tony Hawk', 'Ryan Sheckler'],\n",
    " 11: ['Bethany Hamilton']}\n",
    "exampleroster[newstudentgrade].append(newstudentname)\n",
    "exampleroster[newstudentgrade]"
   ]
  },
  {
   "cell_type": "code",
   "execution_count": 19,
   "metadata": {},
   "outputs": [
    {
     "data": {
      "text/plain": [
       "{12: ['Peter Piper'],\n",
       " 9: ['Kelly Slater'],\n",
       " 10: ['Tony Hawk', 'Ryan Sheckler', 'Neda Jabbari'],\n",
       " 11: ['Bethany Hamilton']}"
      ]
     },
     "execution_count": 19,
     "metadata": {},
     "output_type": "execute_result"
    }
   ],
   "source": [
    "exampleroster"
   ]
  },
  {
   "cell_type": "code",
   "execution_count": 20,
   "metadata": {},
   "outputs": [],
   "source": [
    "school = School(\"Middletown High School\")"
   ]
  },
  {
   "cell_type": "code",
   "execution_count": 21,
   "metadata": {},
   "outputs": [
    {
     "data": {
      "text/plain": [
       "{}"
      ]
     },
     "execution_count": 21,
     "metadata": {},
     "output_type": "execute_result"
    }
   ],
   "source": [
    "school.roster"
   ]
  },
  {
   "cell_type": "code",
   "execution_count": 23,
   "metadata": {},
   "outputs": [
    {
     "data": {
      "text/plain": [
       "{12: ['Peter Piper']}"
      ]
     },
     "execution_count": 23,
     "metadata": {},
     "output_type": "execute_result"
    }
   ],
   "source": [
    "school = School(\"Middletown High School\")\n",
    "school.add_student(\"Peter Piper\", 12)\n",
    "school.roster"
   ]
  },
  {
   "cell_type": "code",
   "execution_count": 24,
   "metadata": {},
   "outputs": [
    {
     "data": {
      "text/plain": [
       "{12: ['Peter Piper'],\n",
       " 9: ['Kelly Slater'],\n",
       " 10: ['Tony Hawk', 'Ryan Sheckler'],\n",
       " 11: ['Bethany Hamilton']}"
      ]
     },
     "execution_count": 24,
     "metadata": {},
     "output_type": "execute_result"
    }
   ],
   "source": [
    "school.add_student(\"Kelly Slater\", 9)\n",
    "school.add_student(\"Tony Hawk\", 10)\n",
    "school.add_student(\"Ryan Sheckler\", 10)\n",
    "school.add_student(\"Bethany Hamilton\", 11)\n",
    "school.roster"
   ]
  },
  {
   "cell_type": "code",
   "execution_count": 28,
   "metadata": {},
   "outputs": [],
   "source": [
    "school = School(\"Middletown High School\") \n",
    "school.add_student(\"Peter Piper\", 12)\n",
    "school.add_student(\"Kelly Slater\", 9)\n",
    "school.add_student(\"Tony Hawk\", 10)\n",
    "school.add_student(\"Ryan Sheckler\", 10)\n",
    "school.add_student(\"Bethany Hamilton\", 11)"
   ]
  },
  {
   "cell_type": "code",
   "execution_count": 29,
   "metadata": {},
   "outputs": [
    {
     "name": "stdout",
     "output_type": "stream",
     "text": [
      "['Tony Hawk', 'Ryan Sheckler']\n",
      "['Peter Piper']\n"
     ]
    }
   ],
   "source": [
    "print(school.grade(10)) # [\"Tony Hawk\", \"Ryan Sheckler\"]\n",
    "print(school.grade(12))"
   ]
  },
  {
   "cell_type": "code",
   "execution_count": 33,
   "metadata": {},
   "outputs": [
    {
     "data": {
      "text/plain": [
       "{12: ['Peter Piper'],\n",
       " 9: ['Kelly Slater'],\n",
       " 10: ['Ryan Sheckler', 'Tony Hawk'],\n",
       " 11: ['Bethany Hamilton']}"
      ]
     },
     "execution_count": 33,
     "metadata": {},
     "output_type": "execute_result"
    }
   ],
   "source": [
    "school.sort_roster()"
   ]
  },
  {
   "cell_type": "code",
   "execution_count": null,
   "metadata": {},
   "outputs": [],
   "source": []
  }
 ],
 "metadata": {
  "kernelspec": {
   "display_name": "Python 3",
   "language": "python",
   "name": "python3"
  },
  "language_info": {
   "codemirror_mode": {
    "name": "ipython",
    "version": 3
   },
   "file_extension": ".py",
   "mimetype": "text/x-python",
   "name": "python",
   "nbconvert_exporter": "python",
   "pygments_lexer": "ipython3",
   "version": "3.7.3"
  }
 },
 "nbformat": 4,
 "nbformat_minor": 2
}
